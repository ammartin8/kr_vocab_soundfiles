{
 "cells": [
  {
   "attachments": {},
   "cell_type": "markdown",
   "metadata": {},
   "source": [
    "## Saving Vocab Soundfiles to CSV files\n",
    "Purpose: Automating a process to record korean vocab words and save them to a csv file which can then be uploaded into anki as flash cards.\n",
    "\n",
    "#### Milestones:\n",
    "- Create selenium driver and connect to appropriate website.\n",
    "- Navigate website by taking a list of vocab words and do the following: input korean word in textbox then read out loud word.\n",
    "- As each word is read out loud, use audacity and record on one or multiple sound file(s) (TBD which method works best).\n",
    "- After words have been recorded. Tag each word in audacity.\n",
    "- Save sound file(s) and export them to a folder. \n",
    "- Create list of korean words, english translation, sound tags associated with soundfile, and anki tags in a csv file (separate project; will further elaborate once we reach this milestone)."
   ]
  },
  {
   "attachments": {},
   "cell_type": "markdown",
   "metadata": {},
   "source": [
    "## Python Libraries"
   ]
  },
  {
   "cell_type": "code",
   "execution_count": 11,
   "metadata": {},
   "outputs": [],
   "source": [
    "from bs4 import BeautifulSoup\n",
    "import csv\n",
    "import keyboard\n",
    "import os\n",
    "import numpy as np\n",
    "import pandas as pd\n",
    "import pyautogui\n",
    "from selenium import webdriver\n",
    "from selenium.webdriver.chrome.options import Options\n",
    "from selenium.webdriver.common.by import By\n",
    "from selenium.webdriver.common.keys import Keys\n",
    "import subprocess\n",
    "import time\n",
    "import win32api, win32con"
   ]
  },
  {
   "attachments": {},
   "cell_type": "markdown",
   "metadata": {},
   "source": [
    "## Helper Functions"
   ]
  },
  {
   "cell_type": "code",
   "execution_count": 141,
   "metadata": {},
   "outputs": [],
   "source": [
    "# List of chrome options\n",
    "def start_driver():\n",
    "    try:\n",
    "        options = Options()\n",
    "        options.binary_location = r\"C:\\Program Files\\BraveSoftware\\Brave-Browser\\Application\\brave.exe\"\n",
    "        options.add_argument(\"--tor\")\n",
    "        options.add_argument('--disable-blink-features=AutomationControlled')\n",
    "        options.add_argument(\"window-size=1280,800\")\n",
    "        # options.addArguments(\"--headless\")\n",
    "        driver = webdriver.Chrome(options=options)\n",
    "        print(\"Driver Started!\")\n",
    "        return driver\n",
    "    except Exception as err:\n",
    "        print(f\"Error occurred: {err}\")\n"
   ]
  },
  {
   "cell_type": "code",
   "execution_count": 142,
   "metadata": {},
   "outputs": [
    {
     "name": "stdout",
     "output_type": "stream",
     "text": [
      "Driver Started!\n"
     ]
    }
   ],
   "source": [
    "active_driver = start_driver()"
   ]
  },
  {
   "cell_type": "code",
   "execution_count": 143,
   "metadata": {},
   "outputs": [],
   "source": [
    "# Check IP Address\n",
    "def check_ip(driver=active_driver):\n",
    "    driver.get('https://api.ipify.org/?format=json')\n",
    "    ip_address = driver.find_element(By.TAG_NAME, \"body\").text\n",
    "    print(ip_address)"
   ]
  },
  {
   "cell_type": "code",
   "execution_count": 144,
   "metadata": {},
   "outputs": [],
   "source": [
    "# Go to specified Url\n",
    "def vocab_request_site(driver=active_driver):\n",
    "    url = 'https://papago.naver.com/'\n",
    "    try:\n",
    "        driver.get(url)\n",
    "        print(f\"Currently at {url}\")\n",
    "    except Exception as err:\n",
    "        print(f\"Error occurred {err}\")"
   ]
  },
  {
   "cell_type": "code",
   "execution_count": 145,
   "metadata": {},
   "outputs": [],
   "source": [
    "def input_keys(input_list, driver=active_driver):\n",
    "    entry_vocab = driver.find_element(By.ID, \"txtSource\")\n",
    "    sound_btn = driver.find_element(By.CLASS_NAME, \"btn_sound___2H-0Z\")\n",
    "    for word in input_list:\n",
    "        entry_vocab.send_keys(word)\n",
    "        entry_vocab.send_keys(Keys.ENTER)\n",
    "        time.sleep(10)\n",
    "        sound_btn.click()\n",
    "        time.sleep(5)\n",
    "        entry_vocab.clear()\n",
    "    print(\"Process complete!\")"
   ]
  },
  {
   "cell_type": "code",
   "execution_count": 146,
   "metadata": {},
   "outputs": [],
   "source": [
    "def close_driver(driver=active_driver):\n",
    "    driver.close()\n",
    "    print(\"Driver is closed\")"
   ]
  },
  {
   "cell_type": "code",
   "execution_count": 147,
   "metadata": {},
   "outputs": [
    {
     "name": "stdout",
     "output_type": "stream",
     "text": [
      "Currently at https://papago.naver.com/\n"
     ]
    }
   ],
   "source": [
    "vocab_request_site()"
   ]
  },
  {
   "cell_type": "code",
   "execution_count": 154,
   "metadata": {},
   "outputs": [
    {
     "name": "stdout",
     "output_type": "stream",
     "text": [
      "Process complete!\n"
     ]
    }
   ],
   "source": [
    "# Loop example vocab list through site\n",
    "vocab_list = ['그분', '사람', '아가씨', '친구', '숙녀']\n",
    "input_keys(vocab_list)"
   ]
  },
  {
   "cell_type": "code",
   "execution_count": 124,
   "metadata": {},
   "outputs": [
    {
     "name": "stdout",
     "output_type": "stream",
     "text": [
      "Driver is closed\n"
     ]
    }
   ],
   "source": [
    "close_driver()"
   ]
  },
  {
   "cell_type": "markdown",
   "metadata": {},
   "source": [
    "## Automating Recording Using Audacity"
   ]
  },
  {
   "cell_type": "code",
   "execution_count": 149,
   "metadata": {},
   "outputs": [],
   "source": [
    "# Open Audacity program\n",
    "def open_audacity():\n",
    "    try:\n",
    "        subprocess.Popen([r'C:\\Program Files\\Audacity\\Audacity.exe'])\n",
    "        print(\"Audacity open!\")\n",
    "    except Exception as err:\n",
    "        print(f\"Error occurred: {err}\")"
   ]
  },
  {
   "cell_type": "code",
   "execution_count": 150,
   "metadata": {},
   "outputs": [],
   "source": [
    "# Recognizing specific buttons in audacity\n",
    "def find_recording_btn():\n",
    "    if pyautogui.locateOnScreen('rec_btn.png') != None:\n",
    "        print(\"I see!\")\n",
    "    else:\n",
    "        print(\"I no see :(\")"
   ]
  },
  {
   "cell_type": "code",
   "execution_count": 151,
   "metadata": {},
   "outputs": [],
   "source": [
    "# Create function that will click on record button\n",
    "def record_session():\n",
    "    rec_btn_location = pyautogui.locateOnScreen('rec_btn.png')\n",
    "    pyautogui.click(rec_btn_location)\n",
    "    print(\"Session recording...\")"
   ]
  },
  {
   "cell_type": "code",
   "execution_count": 152,
   "metadata": {},
   "outputs": [],
   "source": [
    "# Create function that will click on stop button\n",
    "def stop_session():\n",
    "    stop_btn_location = pyautogui.locateOnScreen('stop_btn.png')\n",
    "    pyautogui.click(stop_btn_location)\n",
    "    print(\"Recording session stopped.\")"
   ]
  },
  {
   "cell_type": "code",
   "execution_count": 153,
   "metadata": {},
   "outputs": [
    {
     "name": "stdout",
     "output_type": "stream",
     "text": [
      "Session recording...\n"
     ]
    }
   ],
   "source": [
    "record_session()"
   ]
  },
  {
   "cell_type": "code",
   "execution_count": null,
   "metadata": {},
   "outputs": [],
   "source": []
  }
 ],
 "metadata": {
  "kernelspec": {
   "display_name": "data_science",
   "language": "python",
   "name": "python3"
  },
  "language_info": {
   "codemirror_mode": {
    "name": "ipython",
    "version": 3
   },
   "file_extension": ".py",
   "mimetype": "text/x-python",
   "name": "python",
   "nbconvert_exporter": "python",
   "pygments_lexer": "ipython3",
   "version": "3.11.1"
  },
  "orig_nbformat": 4
 },
 "nbformat": 4,
 "nbformat_minor": 2
}
