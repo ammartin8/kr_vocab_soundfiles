{
 "cells": [
  {
   "attachments": {},
   "cell_type": "markdown",
   "metadata": {},
   "source": [
    "## Saving Vocab Soundfiles to CSV files\n",
    "Purpose: Automating a process to record korean vocab words and save them to a csv file which can then be uploaded into anki as flash cards.\n",
    "\n",
    "#### Milestones:\n",
    "- Create selenium driver and connect to appropriate website.\n",
    "- Navigate website by taking a list of vocab words and do the following: input korean word in textbox then read out loud word.\n",
    "- As each word is read out loud, use audacity and record on one or multiple sound file(s) (TBD which method works best).\n",
    "- After words have been recorded. Tag each word in audacity.\n",
    "- Save sound file(s) and export them to a folder. \n",
    "- Create list of korean words, english translation, sound tags associated with soundfile, and anki tags in a csv file (separate project; will further elaborate once we reach this milestone)."
   ]
  },
  {
   "attachments": {},
   "cell_type": "markdown",
   "metadata": {},
   "source": [
    "## Python Libraries"
   ]
  },
  {
   "cell_type": "code",
   "execution_count": 2,
   "metadata": {},
   "outputs": [],
   "source": [
    "from bs4 import BeautifulSoup\n",
    "import csv\n",
    "import os\n",
    "import numpy as np\n",
    "import pandas as pd\n",
    "import requests\n",
    "from selenium import webdriver\n",
    "from selenium.webdriver.chrome.options import Options\n",
    "from selenium.webdriver.common.by import By\n",
    "from selenium.webdriver.support.ui import WebDriverWait\n",
    "from selenium.webdriver.support import expected_conditions\n",
    "from selenium.webdriver.common.keys import Keys\n",
    "import time"
   ]
  },
  {
   "attachments": {},
   "cell_type": "markdown",
   "metadata": {},
   "source": [
    "## Helper Functions"
   ]
  },
  {
   "cell_type": "code",
   "execution_count": 29,
   "metadata": {},
   "outputs": [],
   "source": [
    "# List of chrome options\n",
    "def start_driver():\n",
    "    try:\n",
    "        options = Options()\n",
    "        options.binary_location = r\"C:\\Program Files\\BraveSoftware\\Brave-Browser\\Application\\brave.exe\"\n",
    "        options.add_argument(\"--tor\")\n",
    "        options.add_argument('--disable-blink-features=AutomationControlled')\n",
    "        options.add_argument(\"window-size=1280,800\")\n",
    "        # options.addArguments(\"--headless\")\n",
    "        driver = webdriver.Chrome(executable_path=r\"C:\\Users\\admin\\drivers\\chromedriver\\chromedriver.exe\", options=options)\n",
    "\n",
    "        #Remove navigator.webdriver Flag using JavaScript\n",
    "        driver.execute_script(\"Object.defineProperty(navigator, 'webdriver', {get: () => undefined})\")\n",
    "        print(\"Driver Started!\")\n",
    "        return driver\n",
    "    except Exception as err:\n",
    "        print(f\"Error occurred: {err}\")\n"
   ]
  },
  {
   "cell_type": "code",
   "execution_count": 30,
   "metadata": {},
   "outputs": [
    {
     "name": "stdout",
     "output_type": "stream",
     "text": [
      "Driver Started!\n"
     ]
    }
   ],
   "source": [
    "active_driver = start_driver()"
   ]
  },
  {
   "cell_type": "code",
   "execution_count": 32,
   "metadata": {},
   "outputs": [],
   "source": [
    "# Check IP Address\n",
    "def check_ip(driver=active_driver):\n",
    "    driver.get('https://api.ipify.org/?format=json')\n",
    "    ip_address = driver.find_element(By.TAG_NAME, \"body\").text\n",
    "    print(ip_address)"
   ]
  },
  {
   "cell_type": "code",
   "execution_count": 34,
   "metadata": {},
   "outputs": [],
   "source": [
    "# Go to specified Url\n",
    "def vocab_request_site(driver=active_driver):\n",
    "    url = 'https://papago.naver.com/'\n",
    "    try:\n",
    "        driver.get(url)\n",
    "        print(f\"Currently at {url}\")\n",
    "    except Exception as err:\n",
    "        print(f\"Error occurred {err}\")"
   ]
  },
  {
   "cell_type": "code",
   "execution_count": 42,
   "metadata": {},
   "outputs": [],
   "source": [
    "def input_keys(input_list, driver=active_driver):\n",
    "    entry_vocab = driver.find_element_by_id(\"txtSource\")\n",
    "    sound_btn = driver.find_element_by_class_name(\"btn_sound___2H-0Z\")\n",
    "    for word in input_list:\n",
    "        entry_vocab.send_keys(word)\n",
    "        entry_vocab.send_keys(Keys.ENTER)\n",
    "        time.sleep(10)\n",
    "        sound_btn.click()\n",
    "        time.sleep(5)\n",
    "        entry_vocab.clear()\n",
    "    print(\"Process complete!\")"
   ]
  },
  {
   "cell_type": "code",
   "execution_count": 36,
   "metadata": {},
   "outputs": [],
   "source": [
    "def close_driver(driver=active_driver):\n",
    "    driver.close()\n",
    "    print(\"Driver is closed\")"
   ]
  },
  {
   "cell_type": "code",
   "execution_count": 33,
   "metadata": {},
   "outputs": [
    {
     "name": "stdout",
     "output_type": "stream",
     "text": [
      "{\"ip\":\"45.61.185.38\"}\n"
     ]
    }
   ],
   "source": [
    "check_ip()"
   ]
  },
  {
   "cell_type": "code",
   "execution_count": 37,
   "metadata": {},
   "outputs": [
    {
     "name": "stdout",
     "output_type": "stream",
     "text": [
      "Currently at https://papago.naver.com/\n"
     ]
    }
   ],
   "source": [
    "vocab_request_site()"
   ]
  },
  {
   "cell_type": "code",
   "execution_count": 26,
   "metadata": {},
   "outputs": [
    {
     "ename": "InvalidSessionIdException",
     "evalue": "Message: invalid session id\n",
     "output_type": "error",
     "traceback": [
      "\u001b[1;31m---------------------------------------------------------------------------\u001b[0m",
      "\u001b[1;31mInvalidSessionIdException\u001b[0m                 Traceback (most recent call last)",
      "\u001b[1;32mc:\\Users\\admin\\Documents\\code_projects\\Python\\automation\\webscrap_korean_vocab\\save_vocab_soundfiles.ipynb Cell 13\u001b[0m in \u001b[0;36m<cell line: 1>\u001b[1;34m()\u001b[0m\n\u001b[1;32m----> <a href='vscode-notebook-cell:/c%3A/Users/admin/Documents/code_projects/Python/automation/webscrap_korean_vocab/save_vocab_soundfiles.ipynb#X13sZmlsZQ%3D%3D?line=0'>1</a>\u001b[0m close_driver()\n",
      "\u001b[1;32mc:\\Users\\admin\\Documents\\code_projects\\Python\\automation\\webscrap_korean_vocab\\save_vocab_soundfiles.ipynb Cell 13\u001b[0m in \u001b[0;36mclose_driver\u001b[1;34m(driver)\u001b[0m\n\u001b[0;32m      <a href='vscode-notebook-cell:/c%3A/Users/admin/Documents/code_projects/Python/automation/webscrap_korean_vocab/save_vocab_soundfiles.ipynb#X13sZmlsZQ%3D%3D?line=0'>1</a>\u001b[0m \u001b[39mdef\u001b[39;00m \u001b[39mclose_driver\u001b[39m(driver\u001b[39m=\u001b[39mactive_driver):\n\u001b[1;32m----> <a href='vscode-notebook-cell:/c%3A/Users/admin/Documents/code_projects/Python/automation/webscrap_korean_vocab/save_vocab_soundfiles.ipynb#X13sZmlsZQ%3D%3D?line=1'>2</a>\u001b[0m     driver\u001b[39m.\u001b[39;49mclose()\n\u001b[0;32m      <a href='vscode-notebook-cell:/c%3A/Users/admin/Documents/code_projects/Python/automation/webscrap_korean_vocab/save_vocab_soundfiles.ipynb#X13sZmlsZQ%3D%3D?line=2'>3</a>\u001b[0m     \u001b[39mprint\u001b[39m(\u001b[39m\"\u001b[39m\u001b[39mDriver is closed\u001b[39m\u001b[39m\"\u001b[39m)\n",
      "File \u001b[1;32mc:\\Users\\admin\\anaconda3\\envs\\data_science\\lib\\site-packages\\selenium\\webdriver\\remote\\webdriver.py:688\u001b[0m, in \u001b[0;36mWebDriver.close\u001b[1;34m(self)\u001b[0m\n\u001b[0;32m    681\u001b[0m \u001b[39mdef\u001b[39;00m \u001b[39mclose\u001b[39m(\u001b[39mself\u001b[39m):\n\u001b[0;32m    682\u001b[0m     \u001b[39m\"\"\"\u001b[39;00m\n\u001b[0;32m    683\u001b[0m \u001b[39m    Closes the current window.\u001b[39;00m\n\u001b[0;32m    684\u001b[0m \n\u001b[0;32m    685\u001b[0m \u001b[39m    :Usage:\u001b[39;00m\n\u001b[0;32m    686\u001b[0m \u001b[39m        driver.close()\u001b[39;00m\n\u001b[0;32m    687\u001b[0m \u001b[39m    \"\"\"\u001b[39;00m\n\u001b[1;32m--> 688\u001b[0m     \u001b[39mself\u001b[39;49m\u001b[39m.\u001b[39;49mexecute(Command\u001b[39m.\u001b[39;49mCLOSE)\n",
      "File \u001b[1;32mc:\\Users\\admin\\anaconda3\\envs\\data_science\\lib\\site-packages\\selenium\\webdriver\\remote\\webdriver.py:321\u001b[0m, in \u001b[0;36mWebDriver.execute\u001b[1;34m(self, driver_command, params)\u001b[0m\n\u001b[0;32m    319\u001b[0m response \u001b[39m=\u001b[39m \u001b[39mself\u001b[39m\u001b[39m.\u001b[39mcommand_executor\u001b[39m.\u001b[39mexecute(driver_command, params)\n\u001b[0;32m    320\u001b[0m \u001b[39mif\u001b[39;00m response:\n\u001b[1;32m--> 321\u001b[0m     \u001b[39mself\u001b[39;49m\u001b[39m.\u001b[39;49merror_handler\u001b[39m.\u001b[39;49mcheck_response(response)\n\u001b[0;32m    322\u001b[0m     response[\u001b[39m'\u001b[39m\u001b[39mvalue\u001b[39m\u001b[39m'\u001b[39m] \u001b[39m=\u001b[39m \u001b[39mself\u001b[39m\u001b[39m.\u001b[39m_unwrap_value(\n\u001b[0;32m    323\u001b[0m         response\u001b[39m.\u001b[39mget(\u001b[39m'\u001b[39m\u001b[39mvalue\u001b[39m\u001b[39m'\u001b[39m, \u001b[39mNone\u001b[39;00m))\n\u001b[0;32m    324\u001b[0m     \u001b[39mreturn\u001b[39;00m response\n",
      "File \u001b[1;32mc:\\Users\\admin\\anaconda3\\envs\\data_science\\lib\\site-packages\\selenium\\webdriver\\remote\\errorhandler.py:242\u001b[0m, in \u001b[0;36mErrorHandler.check_response\u001b[1;34m(self, response)\u001b[0m\n\u001b[0;32m    240\u001b[0m         alert_text \u001b[39m=\u001b[39m value[\u001b[39m'\u001b[39m\u001b[39malert\u001b[39m\u001b[39m'\u001b[39m]\u001b[39m.\u001b[39mget(\u001b[39m'\u001b[39m\u001b[39mtext\u001b[39m\u001b[39m'\u001b[39m)\n\u001b[0;32m    241\u001b[0m     \u001b[39mraise\u001b[39;00m exception_class(message, screen, stacktrace, alert_text)\n\u001b[1;32m--> 242\u001b[0m \u001b[39mraise\u001b[39;00m exception_class(message, screen, stacktrace)\n",
      "\u001b[1;31mInvalidSessionIdException\u001b[0m: Message: invalid session id\n"
     ]
    }
   ],
   "source": [
    "close_driver()"
   ]
  },
  {
   "cell_type": "code",
   "execution_count": 43,
   "metadata": {},
   "outputs": [
    {
     "name": "stdout",
     "output_type": "stream",
     "text": [
      "Process complete!\n"
     ]
    }
   ],
   "source": [
    "# Loop example vocab list through site\n",
    "vocab_list = ['그분', '사람', '아가씨', '친구', '숙녀']\n",
    "input_keys(vocab_list)"
   ]
  },
  {
   "cell_type": "code",
   "execution_count": null,
   "metadata": {},
   "outputs": [],
   "source": []
  }
 ],
 "metadata": {
  "kernelspec": {
   "display_name": "data_science",
   "language": "python",
   "name": "python3"
  },
  "language_info": {
   "codemirror_mode": {
    "name": "ipython",
    "version": 3
   },
   "file_extension": ".py",
   "mimetype": "text/x-python",
   "name": "python",
   "nbconvert_exporter": "python",
   "pygments_lexer": "ipython3",
   "version": "3.10.7"
  },
  "orig_nbformat": 4
 },
 "nbformat": 4,
 "nbformat_minor": 2
}
